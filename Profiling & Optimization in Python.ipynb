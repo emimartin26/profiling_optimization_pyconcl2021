{
 "cells": [
  {
   "cell_type": "markdown",
   "metadata": {
    "slideshow": {
     "slide_type": "slide"
    }
   },
   "source": [
    "# Profiling & Optimization in Python"
   ]
  },
  {
   "cell_type": "markdown",
   "metadata": {
    "slideshow": {
     "slide_type": "slide"
    }
   },
   "source": [
    "## About me\n",
    "\n",
    "<center>\n",
    "    <img src='resources/about-me.png'>\n",
    "</center>       "
   ]
  },
  {
   "cell_type": "markdown",
   "metadata": {
    "slideshow": {
     "slide_type": "slide"
    }
   },
   "source": [
    "## Optimization"
   ]
  },
  {
   "cell_type": "markdown",
   "metadata": {
    "slideshow": {
     "slide_type": "slide"
    }
   },
   "source": [
    "## 3 Rules of optimization"
   ]
  },
  {
   "cell_type": "markdown",
   "metadata": {
    "slideshow": {
     "slide_type": "fragment"
    }
   },
   "source": [
    "### Don't  💡\n",
    "\n",
    "Always have measurable performance goals before optimizing code."
   ]
  },
  {
   "cell_type": "markdown",
   "metadata": {
    "slideshow": {
     "slide_type": "fragment"
    }
   },
   "source": [
    "### Don't Yet 💡\n",
    "\n",
    "Developer time is expensive, sometimes the best solution is to upgrade hardware."
   ]
  },
  {
   "cell_type": "markdown",
   "metadata": {
    "slideshow": {
     "slide_type": "fragment"
    }
   },
   "source": [
    "### Profile before Optimizing 💡\n",
    "\n",
    "Profiling measures where code spends time."
   ]
  },
  {
   "cell_type": "markdown",
   "metadata": {
    "slideshow": {
     "slide_type": "slide"
    }
   },
   "source": [
    "## Measuring time"
   ]
  },
  {
   "cell_type": "markdown",
   "metadata": {
    "slideshow": {
     "slide_type": "fragment"
    }
   },
   "source": [
    "### Two modules\n",
    "\n",
    "- time\n",
    "    - time.clock() obsoleto en 3.3\n",
    "    - time.monotonic()\n",
    "    - time.perf_counter()\n",
    "    - time.process_time()\n",
    "    - time.time()"
   ]
  },
  {
   "cell_type": "markdown",
   "metadata": {
    "slideshow": {
     "slide_type": "fragment"
    }
   },
   "source": [
    "- timeit"
   ]
  },
  {
   "cell_type": "markdown",
   "metadata": {
    "slideshow": {
     "slide_type": "fragment"
    }
   },
   "source": [
    "- https://www.webucator.com/blog/2015/08/python-clocks-explained/"
   ]
  },
  {
   "cell_type": "markdown",
   "metadata": {
    "slideshow": {
     "slide_type": "slide"
    }
   },
   "source": [
    "#### Examples perf_counter:"
   ]
  },
  {
   "cell_type": "code",
   "execution_count": 2,
   "metadata": {
    "slideshow": {
     "slide_type": "fragment"
    }
   },
   "outputs": [],
   "source": [
    "def upto_for(n):\n",
    "    total = 0\n",
    "    for i in range(n):\n",
    "        total += i\n",
    "    return total\n",
    "\n",
    "def upto_sum(n):\n",
    "    return sum(range(n))"
   ]
  },
  {
   "cell_type": "code",
   "execution_count": 1,
   "metadata": {
    "slideshow": {
     "slide_type": "fragment"
    }
   },
   "outputs": [],
   "source": [
    "n = 1_000_000"
   ]
  },
  {
   "cell_type": "code",
   "execution_count": 4,
   "metadata": {
    "slideshow": {
     "slide_type": "fragment"
    }
   },
   "outputs": [],
   "source": [
    "from time import perf_counter"
   ]
  },
  {
   "cell_type": "code",
   "execution_count": 5,
   "metadata": {
    "slideshow": {
     "slide_type": "fragment"
    }
   },
   "outputs": [
    {
     "name": "stdout",
     "output_type": "stream",
     "text": [
      "upto_for 0.07374520799999829\n"
     ]
    }
   ],
   "source": [
    "start = perf_counter()\n",
    "upto_for(n)\n",
    "duration = perf_counter() - start\n",
    "print(\"upto_for\", duration)"
   ]
  },
  {
   "cell_type": "code",
   "execution_count": 6,
   "metadata": {
    "slideshow": {
     "slide_type": "fragment"
    }
   },
   "outputs": [
    {
     "name": "stdout",
     "output_type": "stream",
     "text": [
      "upto_sum 0.0348250830000012\n"
     ]
    }
   ],
   "source": [
    "start = perf_counter()\n",
    "upto_sum(n)\n",
    "duration = perf_counter() - start\n",
    "print(\"upto_sum\", duration)"
   ]
  },
  {
   "cell_type": "markdown",
   "metadata": {
    "slideshow": {
     "slide_type": "slide"
    }
   },
   "source": [
    "#### Examples timeit:"
   ]
  },
  {
   "cell_type": "code",
   "execution_count": 7,
   "metadata": {
    "slideshow": {
     "slide_type": "fragment"
    }
   },
   "outputs": [],
   "source": [
    "from timeit import timeit\n",
    "\n",
    "items = {\n",
    "    'a': 1,\n",
    "    'b': 2,\n",
    "}\n",
    "\n",
    "default = -1\n",
    "\n",
    "def use_catch(key):\n",
    "    \"\"\"Use try/catch to get a key with default\"\"\"\n",
    "    try:\n",
    "        return items[key]\n",
    "    except KeyError:\n",
    "        return default\n",
    "\n",
    "def use_get(key):\n",
    "    \"\"\"Use dict.get to get a key with default\"\"\"\n",
    "    return items.get(key, default)"
   ]
  },
  {
   "cell_type": "code",
   "execution_count": 8,
   "metadata": {
    "slideshow": {
     "slide_type": "fragment"
    }
   },
   "outputs": [
    {
     "name": "stdout",
     "output_type": "stream",
     "text": [
      "catch 0.7718442920000044\n",
      "get 0.3403776250000021\n"
     ]
    }
   ],
   "source": [
    "# Key is in the dictionary\n",
    "print('catch', timeit('use_catch(\"x\")', 'from __main__ import use_catch', number=5000000))\n",
    "print('get', timeit('use_get(\"x\")', 'from __main__ import use_get', number=5000000))"
   ]
  },
  {
   "cell_type": "markdown",
   "metadata": {
    "slideshow": {
     "slide_type": "slide"
    }
   },
   "source": [
    "### Magic function timeit:"
   ]
  },
  {
   "cell_type": "code",
   "execution_count": 9,
   "metadata": {
    "slideshow": {
     "slide_type": "fragment"
    }
   },
   "outputs": [
    {
     "name": "stdout",
     "output_type": "stream",
     "text": [
      "54.8 ns ± 0.331 ns per loop (mean ± std. dev. of 7 runs, 10000000 loops each)\n"
     ]
    }
   ],
   "source": [
    "%timeit use_catch(\"a\")"
   ]
  },
  {
   "cell_type": "code",
   "execution_count": 10,
   "metadata": {
    "slideshow": {
     "slide_type": "fragment"
    }
   },
   "outputs": [
    {
     "name": "stdout",
     "output_type": "stream",
     "text": [
      "72 ns ± 0.201 ns per loop (mean ± std. dev. of 7 runs, 10000000 loops each)\n"
     ]
    }
   ],
   "source": [
    "%timeit use_get(\"a\")"
   ]
  },
  {
   "cell_type": "markdown",
   "metadata": {
    "slideshow": {
     "slide_type": "slide"
    }
   },
   "source": [
    "## CPU Profiling"
   ]
  },
  {
   "cell_type": "markdown",
   "metadata": {
    "slideshow": {
     "slide_type": "fragment"
    }
   },
   "source": [
    "### Deterministic profiling \n",
    "*record every function call and return, as well as exceptions*\n"
   ]
  },
  {
   "cell_type": "markdown",
   "metadata": {
    "slideshow": {
     "slide_type": "fragment"
    }
   },
   "source": [
    "### Statistical profiling\n",
    "*record where the program is at small intervals*\n"
   ]
  },
  {
   "cell_type": "markdown",
   "metadata": {
    "slideshow": {
     "slide_type": "slide"
    }
   },
   "source": [
    "## Profiling in Python\n"
   ]
  },
  {
   "cell_type": "markdown",
   "metadata": {
    "slideshow": {
     "slide_type": "fragment"
    }
   },
   "source": [
    "### Deterministic profiling \n",
    "\n",
    "- #### cProfile (C extension)\n",
    "- #### profile (pure Python module)             \n"
   ]
  },
  {
   "cell_type": "markdown",
   "metadata": {
    "slideshow": {
     "slide_type": "slide"
    }
   },
   "source": [
    "## cProfile"
   ]
  },
  {
   "cell_type": "markdown",
   "metadata": {
    "slideshow": {
     "slide_type": "fragment"
    }
   },
   "source": [
    "#### C extension"
   ]
  },
  {
   "cell_type": "markdown",
   "metadata": {
    "slideshow": {
     "slide_type": "fragment"
    }
   },
   "source": [
    "#### Based on lsprof"
   ]
  },
  {
   "cell_type": "markdown",
   "metadata": {
    "slideshow": {
     "slide_type": "fragment"
    }
   },
   "source": [
    "#### Deterministic profiling \n"
   ]
  },
  {
   "cell_type": "markdown",
   "metadata": {
    "slideshow": {
     "slide_type": "fragment"
    }
   },
   "source": [
    "#### cProfile is built to trace a single thread\n",
    "- multi-threaded application ([Yappi](https://github.com/yousong/yappi))."
   ]
  },
  {
   "cell_type": "markdown",
   "metadata": {
    "slideshow": {
     "slide_type": "slide"
    }
   },
   "source": [
    "## Example CProfile"
   ]
  },
  {
   "cell_type": "code",
   "execution_count": 12,
   "metadata": {
    "slideshow": {
     "slide_type": "slide"
    }
   },
   "outputs": [],
   "source": [
    "from crypt import crypt\n",
    "import sqlite3\n",
    "\n",
    "salt = '$6$ZmBkxkRFj03LQOvr'  # Bad security, store safely\n",
    "db = sqlite3.connect('./passwords.db')\n",
    "db.row_factory = sqlite3.Row  # Access columns by names"
   ]
  },
  {
   "cell_type": "code",
   "execution_count": 13,
   "metadata": {
    "slideshow": {
     "slide_type": "fragment"
    }
   },
   "outputs": [],
   "source": [
    "def user_passwd(user):\n",
    "    \"\"\"Get user password from db\"\"\"\n",
    "    cur = db.cursor()\n",
    "    cur.execute('SELECT passwd FROM users WHERE user = ?', (user, ))\n",
    "    row = cur.fetchone()\n",
    "    if row is None:  # No such user\n",
    "        raise KeyError(user)\n",
    "    return row['passwd']\n",
    "\n",
    "\n",
    "def encrypt_passwd(passwd):\n",
    "    \"\"\"Encrypt user password\"\"\"\n",
    "    return crypt(passwd, salt)"
   ]
  },
  {
   "cell_type": "code",
   "execution_count": 14,
   "metadata": {
    "slideshow": {
     "slide_type": "fragment"
    }
   },
   "outputs": [],
   "source": [
    "def login(user, password):\n",
    "    \"\"\"Return True is user/password pair matches\"\"\"\n",
    "    try:\n",
    "        db_passwd = user_passwd(user)\n",
    "    except KeyError:\n",
    "        return False\n",
    "\n",
    "    passwd = encrypt_passwd(password)\n",
    "    return passwd == db_passwd"
   ]
  },
  {
   "cell_type": "code",
   "execution_count": 15,
   "metadata": {
    "slideshow": {
     "slide_type": "slide"
    }
   },
   "outputs": [],
   "source": [
    "from random import random\n",
    "\n",
    "\n",
    "def gen_cases(n):\n",
    "    \"\"\"Generate tests cases\"\"\"\n",
    "    for i in range(n):\n",
    "        if random() > 0.1:  # 90% of logins are OK\n",
    "            yield ('daffy', 'rabbit season')\n",
    "        else:\n",
    "            if random() < 0.2:\n",
    "                yield ('tweety', 'puddy tat')  # no such user\n",
    "            else:\n",
    "                yield ('daffy', 'duck season')\n",
    "\n",
    "\n",
    "def bench_login(cases):\n",
    "    \"\"\"Benchmark login with test cases\"\"\"\n",
    "    for user, passwd in cases:\n",
    "        login(user, passwd)"
   ]
  },
  {
   "cell_type": "code",
   "execution_count": 16,
   "metadata": {
    "slideshow": {
     "slide_type": "slide"
    }
   },
   "outputs": [],
   "source": [
    "n = 1000\n",
    "cases = list(gen_cases(n))"
   ]
  },
  {
   "cell_type": "code",
   "execution_count": 17,
   "metadata": {
    "slideshow": {
     "slide_type": "fragment"
    }
   },
   "outputs": [
    {
     "name": "stdout",
     "output_type": "stream",
     "text": [
      "         8912 function calls in 0.036 seconds\n",
      "\n",
      "   Ordered by: cumulative time\n",
      "\n",
      "   ncalls  tottime  percall  cumtime  percall filename:lineno(function)\n",
      "        1    0.000    0.000    0.036    0.036 {built-in method builtins.exec}\n",
      "        1    0.000    0.000    0.036    0.036 <string>:1(<module>)\n",
      "        1    0.000    0.000    0.036    0.036 2615380777.py:16(bench_login)\n",
      "     1000    0.002    0.000    0.035    0.000 2293933993.py:1(login)\n",
      "     1000    0.001    0.000    0.024    0.000 1035362234.py:1(user_passwd)\n",
      "     1000    0.019    0.000    0.019    0.000 {method 'execute' of 'sqlite3.Cursor' objects}\n",
      "      977    0.000    0.000    0.009    0.000 1035362234.py:11(encrypt_passwd)\n",
      "      977    0.001    0.000    0.008    0.000 crypt.py:70(crypt)\n",
      "      977    0.008    0.000    0.008    0.000 {built-in method _crypt.crypt}\n",
      "     1000    0.003    0.000    0.003    0.000 {method 'fetchone' of 'sqlite3.Cursor' objects}\n",
      "     1000    0.001    0.000    0.001    0.000 {method 'cursor' of 'sqlite3.Connection' objects}\n",
      "      977    0.000    0.000    0.000    0.000 {built-in method builtins.isinstance}\n",
      "        1    0.000    0.000    0.000    0.000 {method 'disable' of '_lsprof.Profiler' objects}\n",
      "\n",
      "\n"
     ]
    }
   ],
   "source": [
    "import cProfile\n",
    "\n",
    "cProfile.run('bench_login(cases)', sort=\"cumtime\")"
   ]
  },
  {
   "cell_type": "code",
   "execution_count": 18,
   "metadata": {
    "slideshow": {
     "slide_type": "slide"
    }
   },
   "outputs": [],
   "source": [
    "cProfile.run('bench_login(cases)', filename=\"profiling.out\")"
   ]
  },
  {
   "cell_type": "code",
   "execution_count": 19,
   "metadata": {
    "slideshow": {
     "slide_type": "fragment"
    }
   },
   "outputs": [],
   "source": [
    "import pstats\n",
    "from pstats import SortKey\n",
    "\n",
    "sortby = SortKey.CUMULATIVE\n",
    "\n",
    "ps = pstats.Stats(\"profiling.out\").strip_dirs().sort_stats(sortby)"
   ]
  },
  {
   "cell_type": "code",
   "execution_count": 20,
   "metadata": {
    "slideshow": {
     "slide_type": "fragment"
    }
   },
   "outputs": [
    {
     "name": "stdout",
     "output_type": "stream",
     "text": [
      "Fri Nov  5 09:58:43 2021    profiling.out\n",
      "\n",
      "         8912 function calls in 0.040 seconds\n",
      "\n",
      "   Ordered by: cumulative time\n",
      "   List reduced from 13 to 10 due to restriction <10>\n",
      "\n",
      "   ncalls  tottime  percall  cumtime  percall filename:lineno(function)\n",
      "        1    0.000    0.000    0.040    0.040 {built-in method builtins.exec}\n",
      "        1    0.000    0.000    0.040    0.040 <string>:1(<module>)\n",
      "        1    0.000    0.000    0.040    0.040 2615380777.py:16(bench_login)\n",
      "     1000    0.002    0.000    0.040    0.000 2293933993.py:1(login)\n",
      "     1000    0.001    0.000    0.027    0.000 1035362234.py:1(user_passwd)\n",
      "     1000    0.021    0.000    0.021    0.000 {method 'execute' of 'sqlite3.Cursor' objects}\n",
      "      977    0.001    0.000    0.010    0.000 1035362234.py:11(encrypt_passwd)\n",
      "      977    0.001    0.000    0.009    0.000 crypt.py:70(crypt)\n",
      "      977    0.009    0.000    0.009    0.000 {built-in method _crypt.crypt}\n",
      "     1000    0.004    0.000    0.004    0.000 {method 'fetchone' of 'sqlite3.Cursor' objects}\n",
      "\n",
      "\n"
     ]
    },
    {
     "data": {
      "text/plain": [
       "<pstats.Stats at 0x107d99f40>"
      ]
     },
     "execution_count": 20,
     "metadata": {},
     "output_type": "execute_result"
    }
   ],
   "source": [
    "ps.print_stats(10)"
   ]
  },
  {
   "cell_type": "markdown",
   "metadata": {
    "slideshow": {
     "slide_type": "slide"
    }
   },
   "source": [
    "## snakeviz"
   ]
  },
  {
   "cell_type": "code",
   "execution_count": 21,
   "metadata": {
    "slideshow": {
     "slide_type": "slide"
    }
   },
   "outputs": [],
   "source": [
    "%load_ext snakeviz"
   ]
  },
  {
   "cell_type": "code",
   "execution_count": 22,
   "metadata": {
    "scrolled": true,
    "slideshow": {
     "slide_type": "fragment"
    }
   },
   "outputs": [
    {
     "name": "stdout",
     "output_type": "stream",
     "text": [
      " \n",
      "*** Profile stats marshalled to file '/var/folders/g5/_gc0xsms1t7dsqg9_ssm3_bdwn9xh3/T/tmpj7xu4u3l'. \n",
      "Embedding SnakeViz in this document...\n"
     ]
    },
    {
     "data": {
      "text/html": [
       "\n",
       "<iframe id='snakeviz-20999a2e-3e38-11ec-8b97-1e80c0149a35' frameborder=0 seamless width='100%' height='1000'></iframe>\n",
       "<script>document.getElementById(\"snakeviz-20999a2e-3e38-11ec-8b97-1e80c0149a35\").setAttribute(\"src\", \"http://\" + document.location.hostname + \":8080/snakeviz/%2Fvar%2Ffolders%2Fg5%2F_gc0xsms1t7dsqg9_ssm3_bdwn9xh3%2FT%2Ftmpj7xu4u3l\")</script>\n"
      ],
      "text/plain": [
       "<IPython.core.display.HTML object>"
      ]
     },
     "metadata": {},
     "output_type": "display_data"
    }
   ],
   "source": [
    "%snakeviz bench_login(cases)"
   ]
  },
  {
   "cell_type": "markdown",
   "metadata": {
    "slideshow": {
     "slide_type": "slide"
    }
   },
   "source": [
    "## Example line_profiler"
   ]
  },
  {
   "cell_type": "code",
   "execution_count": 23,
   "metadata": {
    "slideshow": {
     "slide_type": "fragment"
    }
   },
   "outputs": [],
   "source": [
    "%load_ext line_profiler"
   ]
  },
  {
   "cell_type": "code",
   "execution_count": 24,
   "metadata": {
    "slideshow": {
     "slide_type": "fragment"
    }
   },
   "outputs": [
    {
     "name": "stdout",
     "output_type": "stream",
     "text": [
      "\n",
      "*** Profile printout saved to text file 'lprof0'. \n"
     ]
    }
   ],
   "source": [
    "%lprun -T lprof0 -f login bench_login(cases)"
   ]
  },
  {
   "cell_type": "markdown",
   "metadata": {
    "slideshow": {
     "slide_type": "slide"
    }
   },
   "source": [
    "## Tracing Memory Allocation"
   ]
  },
  {
   "cell_type": "markdown",
   "metadata": {
    "slideshow": {
     "slide_type": "fragment"
    }
   },
   "source": [
    "- Programs contain data.\n",
    "- They are stored in the memory. \n",
    "- Accessing memory becomes important.\n",
    "- In modern computers it is done in layers.\n"
   ]
  },
  {
   "cell_type": "markdown",
   "metadata": {
    "slideshow": {
     "slide_type": "slide"
    }
   },
   "source": [
    "### Latency\n",
    "\n",
    "<center>\n",
    "    <img src='resources/latency.png'>\n",
    "</center>                    \n"
   ]
  },
  {
   "cell_type": "markdown",
   "metadata": {
    "slideshow": {
     "slide_type": "slide"
    }
   },
   "source": [
    "## tracemalloc & memory_profiler"
   ]
  },
  {
   "cell_type": "markdown",
   "metadata": {
    "slideshow": {
     "slide_type": "fragment"
    }
   },
   "source": [
    "#### - The tracemalloc module is a debug tool to trace memory blocks allocated by Python. (New in 3.4)\n"
   ]
  },
  {
   "cell_type": "markdown",
   "metadata": {
    "slideshow": {
     "slide_type": "fragment"
    }
   },
   "source": [
    "#### - memory_profiler"
   ]
  },
  {
   "cell_type": "markdown",
   "metadata": {
    "slideshow": {
     "slide_type": "notes"
    }
   },
   "source": [
    "- tracemalloc nos permite entender como esta asignando python la memoria en nuestro programa.\n",
    "- memory profiler nos permite ver linea por linea donde se esta yendo la memoria."
   ]
  },
  {
   "cell_type": "markdown",
   "metadata": {
    "slideshow": {
     "slide_type": "slide"
    }
   },
   "source": [
    "## Example memory_profiler"
   ]
  },
  {
   "cell_type": "code",
   "execution_count": 25,
   "metadata": {
    "slideshow": {
     "slide_type": "fragment"
    }
   },
   "outputs": [
    {
     "name": "stdout",
     "output_type": "stream",
     "text": [
      "Writing memory.py\n"
     ]
    }
   ],
   "source": [
    "%%file memory.py\n",
    "\n",
    "import numpy as np\n",
    "\n",
    "@profile\n",
    "def allocate():\n",
    "    vector_list = [float(i) for i in range(1_000_000)]\n",
    "    vector_np = np.arange(0, 1_000_000, dtype=\"d\")\n",
    "    \n",
    "allocate()"
   ]
  },
  {
   "cell_type": "code",
   "execution_count": 26,
   "metadata": {
    "slideshow": {
     "slide_type": "fragment"
    }
   },
   "outputs": [
    {
     "name": "stdout",
     "output_type": "stream",
     "text": [
      "Filename: memory.py\r\n",
      "\r\n",
      "Line #    Mem usage    Increment  Occurences   Line Contents\r\n",
      "============================================================\r\n",
      "     4   53.984 MiB   53.984 MiB           1   @profile\r\n",
      "     5                                         def allocate():\r\n",
      "     6   92.609 MiB   38.625 MiB     1000003       vector_list = [float(i) for i in range(1_000_000)]\r\n",
      "     7  100.250 MiB    7.641 MiB           1       vector_np = np.arange(0, 1_000_000, dtype=\"d\")\r\n",
      "\r\n",
      "\r\n"
     ]
    }
   ],
   "source": [
    "! python -m memory_profiler memory.py"
   ]
  },
  {
   "cell_type": "code",
   "execution_count": 27,
   "metadata": {
    "slideshow": {
     "slide_type": "slide"
    }
   },
   "outputs": [
    {
     "name": "stdout",
     "output_type": "stream",
     "text": [
      "mprof: Sampling memory every 0.1s\r\n",
      "running new process\r\n",
      "running as a Python program...\r\n"
     ]
    }
   ],
   "source": [
    "! mprof run memory.py"
   ]
  },
  {
   "cell_type": "code",
   "execution_count": 33,
   "metadata": {
    "slideshow": {
     "slide_type": "fragment"
    }
   },
   "outputs": [
    {
     "name": "stdout",
     "output_type": "stream",
     "text": [
      "Using last profile data.\r\n"
     ]
    }
   ],
   "source": [
    "! mprof plot -o image.png\n"
   ]
  },
  {
   "cell_type": "markdown",
   "metadata": {
    "slideshow": {
     "slide_type": "fragment"
    }
   },
   "source": [
    "<center>\n",
    "    <img src='./image.png'>\n",
    "</center>  "
   ]
  },
  {
   "cell_type": "markdown",
   "metadata": {
    "slideshow": {
     "slide_type": "slide"
    }
   },
   "source": [
    "## In production\n",
    "\n",
    "<center>\n",
    "    <img src='resources/production.png'>\n",
    "</center>                    \n",
    "\n",
    "- https://docs.newrelic.com/docs/apm/apm-ui-pages/events/thread-profiler-tool\n",
    "- https://docs.datadoghq.com/tracing/profiler/\n"
   ]
  },
  {
   "cell_type": "markdown",
   "metadata": {
    "slideshow": {
     "slide_type": "slide"
    }
   },
   "source": [
    "<center>\n",
    "    <img src='resources/example_profile_2.png'>\n",
    "</center>                    \n"
   ]
  },
  {
   "cell_type": "markdown",
   "metadata": {
    "slideshow": {
     "slide_type": "slide"
    }
   },
   "source": [
    "<center>\n",
    "    <img src='resources/example_profile_1.png'>\n",
    "</center>                    \n"
   ]
  },
  {
   "cell_type": "markdown",
   "metadata": {
    "slideshow": {
     "slide_type": "slide"
    }
   },
   "source": [
    " # <center> Premature optimization is the root of all evil. </center>   \n",
    " # <center> Donald Knuth </center>   \n",
    "\n"
   ]
  },
  {
   "cell_type": "markdown",
   "metadata": {
    "slideshow": {
     "slide_type": "notes"
    }
   },
   "source": [
    "## La optimización prematura es la fuente de todos los males."
   ]
  },
  {
   "cell_type": "markdown",
   "metadata": {
    "slideshow": {
     "slide_type": "slide"
    }
   },
   "source": [
    "### <center> Resources: https://github.com/emimartin26/profiling_optimization_pyconar2021 </center>   "
   ]
  },
  {
   "cell_type": "markdown",
   "metadata": {
    "slideshow": {
     "slide_type": "slide"
    }
   },
   "source": [
    " - https://www.webucator.com/blog/2015/08/python-clocks-explained/\n",
    " - https://docs.python.org/3/library/time.html\n",
    " - https://docs.python.org/es/3/library/timeit.html\n",
    " - https://ipython.org/ipython-doc/dev/interactive/magics.html#magic-timeit\n",
    " - https://docs.python.org/es/3.10/library/profile.html\n",
    " - https://github.com/yousong/yappi\n",
    " - https://readthedocs.org/projects/greenletprofiler/\n",
    " - https://jiffyclub.github.io/snakeviz/\n",
    " - https://github.com/rkern/line_profiler\n",
    " - https://docs.python.org/es/3/library/tracemalloc.html\n",
    " - https://github.com/pythonprofilers/memory_profiler\n",
    " - https://docs.newrelic.com/docs/apm/apm-ui-pages/events/thread-profiler-tool\n",
    " - https://docs.datadoghq.com/tracing/profiler/\n",
    " - https://www.linkedin.com/learning/faster-python-code"
   ]
  },
  {
   "cell_type": "markdown",
   "metadata": {
    "slideshow": {
     "slide_type": "slide"
    }
   },
   "source": [
    "# <center> Thanks! </center>"
   ]
  }
 ],
 "metadata": {
  "celltoolbar": "Slideshow",
  "kernelspec": {
   "display_name": "Python 3 (ipykernel)",
   "language": "python",
   "name": "python3"
  },
  "language_info": {
   "codemirror_mode": {
    "name": "ipython",
    "version": 3
   },
   "file_extension": ".py",
   "mimetype": "text/x-python",
   "name": "python",
   "nbconvert_exporter": "python",
   "pygments_lexer": "ipython3",
   "version": "3.9.1"
  }
 },
 "nbformat": 4,
 "nbformat_minor": 4
}
